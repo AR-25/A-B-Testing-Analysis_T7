{
  "cells": [
    {
      "cell_type": "code",
      "execution_count": 1,
      "metadata": {
        "colab": {
          "base_uri": "https://localhost:8080/"
        },
        "id": "qMgRyPStU-ov",
        "outputId": "035b15de-2f6f-4482-a648-caa8e58d2b4b"
      },
      "outputs": [
        {
          "name": "stdout",
          "output_type": "stream",
          "text": [
            "--- Initial Data Inspection ---\n",
            "Dataset shape: (294478, 5)\n",
            "Number of unique users: 290584\n",
            "   user_id                   timestamp      group landing_page  converted\n",
            "0   851104  2017-01-21 22:11:48.556739    control     old_page          0\n",
            "1   804228  2017-01-12 08:01:45.159739    control     old_page          0\n",
            "2   661590  2017-01-11 16:55:06.154213  treatment     new_page          0\n",
            "3   853541  2017-01-08 18:28:03.143765  treatment     new_page          0\n",
            "4   864975  2017-01-21 01:52:26.210827    control     old_page          1\n",
            "\n",
            "Found 3893 mismatched rows to remove.\n",
            "Found 2 duplicate user entries to remove.\n",
            "\n",
            "--- Data Cleaning Complete ---\n",
            "Final dataset shape: (290584, 5)\n"
          ]
        }
      ],
      "source": [
        "# Import necessary libraries\n",
        "import pandas as pd\n",
        "import numpy as np\n",
        "from statsmodels.stats.proportion import proportions_ztest\n",
        "\n",
        "# Load the dataset\n",
        "df = pd.read_csv('ab_data.csv')\n",
        "\n",
        "print(\"--- Initial Data Inspection ---\")\n",
        "print(f\"Dataset shape: {df.shape}\")\n",
        "print(f\"Number of unique users: {df.user_id.nunique()}\")\n",
        "print(df.head())\n",
        "\n",
        "# --- Data Cleaning ---\n",
        "\n",
        "# Check for users who are in the treatment group but saw the old page, and vice versa\n",
        "mismatched_users = df[((df['group'] == 'treatment') & (df['landing_page'] == 'old_page')) |\n",
        "                      ((df['group'] == 'control') & (df['landing_page'] == 'new_page'))]\n",
        "\n",
        "print(f\"\\nFound {len(mismatched_users)} mismatched rows to remove.\")\n",
        "\n",
        "# Remove these mismatched rows\n",
        "df.drop(mismatched_users.index, inplace=True)\n",
        "\n",
        "# Check for and remove any duplicate user_id entries\n",
        "duplicate_users = df[df.duplicated('user_id', keep=False)]\n",
        "print(f\"Found {len(duplicate_users)} duplicate user entries to remove.\")\n",
        "df.drop_duplicates(subset='user_id', keep='first', inplace=True)\n",
        "\n",
        "\n",
        "print(\"\\n--- Data Cleaning Complete ---\")\n",
        "print(f\"Final dataset shape: {df.shape}\")"
      ]
    },
    {
      "cell_type": "code",
      "execution_count": 2,
      "metadata": {
        "colab": {
          "base_uri": "https://localhost:8080/"
        },
        "id": "UsPaXYmPVOdH",
        "outputId": "819825b4-7c3f-4d1c-8695-b61e5076e66d"
      },
      "outputs": [
        {
          "name": "stdout",
          "output_type": "stream",
          "text": [
            "--- A/B Test Metrics ---\n",
            "Control Group Users: 145274\n",
            "Control Group Conversions: 17489\n",
            "Control Group Conversion Rate: 0.1204\n",
            "\n",
            "Treatment Group Users: 145310\n",
            "Treatment Group Conversions: 17264\n",
            "Treatment Group Conversion Rate: 0.1188\n"
          ]
        }
      ],
      "source": [
        "# Separate the data into control and treatment groups\n",
        "control_group = df[df['group'] == 'control']\n",
        "treatment_group = df[df['group'] == 'treatment']\n",
        "\n",
        "# Calculate key metrics for each group\n",
        "control_users = len(control_group)\n",
        "control_conversions = control_group['converted'].sum()\n",
        "control_conversion_rate = control_conversions / control_users\n",
        "\n",
        "treatment_users = len(treatment_group)\n",
        "treatment_conversions = treatment_group['converted'].sum()\n",
        "treatment_conversion_rate = treatment_conversions / treatment_users\n",
        "\n",
        "print(\"--- A/B Test Metrics ---\")\n",
        "print(f\"Control Group Users: {control_users}\")\n",
        "print(f\"Control Group Conversions: {control_conversions}\")\n",
        "print(f\"Control Group Conversion Rate: {control_conversion_rate:.4f}\\n\")\n",
        "\n",
        "print(f\"Treatment Group Users: {treatment_users}\")\n",
        "print(f\"Treatment Group Conversions: {treatment_conversions}\")\n",
        "print(f\"Treatment Group Conversion Rate: {treatment_conversion_rate:.4f}\")"
      ]
    },
    {
      "cell_type": "code",
      "execution_count": 3,
      "metadata": {
        "colab": {
          "base_uri": "https://localhost:8080/"
        },
        "id": "yOkZi1e6VUgf",
        "outputId": "f83bc530-2d5d-4f1f-a3bc-fe64767e154c"
      },
      "outputs": [
        {
          "name": "stdout",
          "output_type": "stream",
          "text": [
            "--- Statistical Test Results ---\n",
            "Z-statistic: -1.3109\n",
            "P-value: 0.1899\n"
          ]
        }
      ],
      "source": [
        "# Prepare the data for the Z-test\n",
        "conversions = np.array([treatment_conversions, control_conversions])\n",
        "nobs = np.array([treatment_users, control_users]) # nobs = number of observations\n",
        "\n",
        "# Perform the Z-test\n",
        "z_stat, p_value = proportions_ztest(conversions, nobs=nobs, alternative='two-sided')\n",
        "\n",
        "print(\"--- Statistical Test Results ---\")\n",
        "print(f\"Z-statistic: {z_stat:.4f}\")\n",
        "print(f\"P-value: {p_value:.4f}\")"
      ]
    },
    {
      "cell_type": "code",
      "execution_count": 4,
      "metadata": {
        "colab": {
          "base_uri": "https://localhost:8080/"
        },
        "id": "iRUJmtFTVXBt",
        "outputId": "2e00028e-aea2-4388-e6e1-8956765d3be6"
      },
      "outputs": [
        {
          "name": "stdout",
          "output_type": "stream",
          "text": [
            "--- Conclusion ---\n",
            "Result: Fail to Reject the Null Hypothesis.\n",
            "Conclusion: We do not have enough evidence to say that the new design has a different conversion rate. The observed difference is likely due to random chance.\n"
          ]
        }
      ],
      "source": [
        "alpha = 0.05\n",
        "\n",
        "print(\"--- Conclusion ---\")\n",
        "if p_value <= alpha:\n",
        "    print(\"Result: Reject the Null Hypothesis.\")\n",
        "    print(\"Conclusion: The new design has a statistically significant different conversion rate compared to the old design.\")\n",
        "else:\n",
        "    print(\"Result: Fail to Reject the Null Hypothesis.\")\n",
        "    print(\"Conclusion: We do not have enough evidence to say that the new design has a different conversion rate. The observed difference is likely due to random chance.\")"
      ]
    },
    {
      "cell_type": "code",
      "execution_count": null,
      "metadata": {
        "id": "VnnzvpoEVZly"
      },
      "outputs": [],
      "source": []
    }
  ],
  "metadata": {
    "colab": {
      "provenance": []
    },
    "kernelspec": {
      "display_name": "Python 3",
      "name": "python3"
    },
    "language_info": {
      "name": "python"
    }
  },
  "nbformat": 4,
  "nbformat_minor": 0
}
